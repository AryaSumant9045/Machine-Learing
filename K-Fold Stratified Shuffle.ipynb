{
 "cells": [
  {
   "cell_type": "code",
   "execution_count": 1,
   "id": "023491e3-7ff5-4446-86a1-141a99a55d3a",
   "metadata": {},
   "outputs": [],
   "source": [
    "import numpy as np\n",
    "import matplotlib.pyplot as plt\n",
    "from sklearn.datasets import make_classification\n",
    "from sklearn.linear_model import LogisticRegression\n",
    "from sklearn.model_selection import train_test_split\n",
    "\n",
    "X, y = make_classification(\n",
    "    n_features=10, \n",
    "    n_samples=1000, \n",
    "    n_informative=8,\n",
    "    n_redundant=2,\n",
    "    n_repeated=0,\n",
    "    n_classes=2, \n",
    "    weights = [0.9, 0.1],\n",
    "    random_state=42\n",
    ")\n",
    "\n",
    "# Split data into training and test sets\n",
    "X_train, X_test, y_train, y_test = train_test_split(X, y, test_size=0.3, random_state=42)"
   ]
  },
  {
   "cell_type": "code",
   "execution_count": 3,
   "id": "c142a44f-fd99-42b9-b38f-5b171bac7549",
   "metadata": {},
   "outputs": [
    {
     "data": {
      "text/plain": [
       "Counter({0: 897, 1: 103})"
      ]
     },
     "execution_count": 3,
     "metadata": {},
     "output_type": "execute_result"
    }
   ],
   "source": [
    "from collections import Counter\n",
    "\n",
    "Counter(y)"
   ]
  },
  {
   "cell_type": "code",
   "execution_count": 19,
   "id": "8551445e-7557-4994-bab5-ad78063d6f30",
   "metadata": {},
   "outputs": [
    {
     "name": "stdout",
     "output_type": "stream",
     "text": [
      "[0 2 3 4] [1]\n",
      "[0 1 2 3] [4]\n",
      "[0 1 3 4] [2]\n",
      "[1 2 3 4] [0]\n",
      "[0 1 2 4] [3]\n"
     ]
    }
   ],
   "source": [
    "from sklearn.model_selection import KFold\n",
    "\n",
    "kf = KFold(n_splits = 5, shuffle= True, random_state = 42)\n",
    "for train_index, test_index in kf.split([50, 40, 30, 70, 60]):\n",
    "    print(train_index, test_index)"
   ]
  },
  {
   "cell_type": "code",
   "execution_count": 5,
   "id": "09da1998-fe0a-44b9-89e8-eb8ecff1158b",
   "metadata": {},
   "outputs": [
    {
     "name": "stdout",
     "output_type": "stream",
     "text": [
      "Counter({0: 177, 1: 23})\n",
      "Counter({0: 179, 1: 21})\n",
      "Counter({0: 183, 1: 17})\n",
      "Counter({0: 181, 1: 19})\n",
      "Counter({0: 177, 1: 23})\n"
     ]
    }
   ],
   "source": [
    "from sklearn.model_selection import KFold\n",
    "\n",
    "kf = KFold(n_splits=5, shuffle=True, random_state=42)\n",
    "for train_index, test_index in kf.split(X, y):\n",
    "    X_train, X_test = X[train_index], X[test_index]\n",
    "    y_train, y_test = y[train_index], y[test_index]\n",
    "    print(Counter(y_test)) "
   ]
  },
  {
   "cell_type": "code",
   "execution_count": 7,
   "id": "6dd41da2-77de-4a84-bd3d-071035e913de",
   "metadata": {},
   "outputs": [
    {
     "name": "stdout",
     "output_type": "stream",
     "text": [
      "Counter({0: 180, 1: 20})\n",
      "Counter({0: 180, 1: 20})\n",
      "Counter({0: 179, 1: 21})\n",
      "Counter({0: 179, 1: 21})\n",
      "Counter({0: 179, 1: 21})\n"
     ]
    }
   ],
   "source": [
    "from sklearn.model_selection import StratifiedKFold\n",
    "\n",
    "skf = StratifiedKFold(n_splits=5, shuffle=True, random_state=42)\n",
    "\n",
    "for train_index, test_index in skf.split(X, y):\n",
    "    X_train, X_test = X[train_index], X[test_index]\n",
    "    y_train, y_test = y[train_index], y[test_index]\n",
    "    print(Counter(y_test))   "
   ]
  },
  {
   "cell_type": "code",
   "execution_count": 23,
   "id": "b9737ced-2b54-4c0b-bd36-b3d34b1c18cd",
   "metadata": {},
   "outputs": [
    {
     "data": {
      "text/plain": [
       "array([0.915, 0.91 , 0.895, 0.895, 0.895])"
      ]
     },
     "execution_count": 23,
     "metadata": {},
     "output_type": "execute_result"
    }
   ],
   "source": [
    "from sklearn.model_selection import cross_val_score\n",
    "\n",
    "cross_val_score(LogisticRegression(), X, y, cv=skf, scoring=\"accuracy\")"
   ]
  },
  {
   "cell_type": "code",
   "execution_count": 25,
   "id": "4e8e8ab6-1407-4327-b1ea-829608678fd3",
   "metadata": {},
   "outputs": [
    {
     "data": {
      "text/plain": [
       "array([0.895, 0.915, 0.9  , 0.85 , 0.92 ])"
      ]
     },
     "execution_count": 25,
     "metadata": {},
     "output_type": "execute_result"
    }
   ],
   "source": [
    "from sklearn.tree import DecisionTreeClassifier\n",
    "cross_val_score(DecisionTreeClassifier(), X, y, cv=skf, scoring=\"accuracy\")"
   ]
  },
  {
   "cell_type": "code",
   "execution_count": 13,
   "id": "7720d30f-85a3-41f3-9a5a-7887522ad751",
   "metadata": {},
   "outputs": [
    {
     "data": {
      "text/plain": [
       "array([0.92 , 0.925, 0.915, 0.91 , 0.915])"
      ]
     },
     "execution_count": 13,
     "metadata": {},
     "output_type": "execute_result"
    }
   ],
   "source": [
    "from sklearn.ensemble import RandomForestClassifier\n",
    "cross_val_score(RandomForestClassifier(n_estimators=10), X, y, cv=skf, scoring=\"accuracy\")"
   ]
  },
  {
   "cell_type": "code",
   "execution_count": 15,
   "id": "b1e5689f-9853-4a66-bb4d-a9576cd9e55a",
   "metadata": {},
   "outputs": [
    {
     "data": {
      "text/plain": [
       "array([0.925, 0.895, 0.92 , 0.93 , 0.93 ])"
      ]
     },
     "execution_count": 15,
     "metadata": {},
     "output_type": "execute_result"
    }
   ],
   "source": [
    "cross_val_score(RandomForestClassifier(n_estimators=10), X, y, cv=5, scoring=\"accuracy\")"
   ]
  },
  {
   "cell_type": "code",
   "execution_count": null,
   "id": "362ebfd6-5f27-4ec2-a7db-52404cea31b1",
   "metadata": {},
   "outputs": [],
   "source": []
  }
 ],
 "metadata": {
  "kernelspec": {
   "display_name": "Python 3 (ipykernel)",
   "language": "python",
   "name": "python3"
  },
  "language_info": {
   "codemirror_mode": {
    "name": "ipython",
    "version": 3
   },
   "file_extension": ".py",
   "mimetype": "text/x-python",
   "name": "python",
   "nbconvert_exporter": "python",
   "pygments_lexer": "ipython3",
   "version": "3.12.7"
  }
 },
 "nbformat": 4,
 "nbformat_minor": 5
}
